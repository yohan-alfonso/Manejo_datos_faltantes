{
 "cells": [
  {
   "attachments": {},
   "cell_type": "markdown",
   "metadata": {},
   "source": [
    "# install Spark tools"
   ]
  },
  {
   "attachments": {},
   "cell_type": "markdown",
   "metadata": {},
   "source": [
    "https://data.cityofchicago.org/Public-Safety/Crimes-2001-to-Present/ijzp-q8t2"
   ]
  },
  {
   "cell_type": "code",
   "execution_count": 14,
   "metadata": {},
   "outputs": [],
   "source": [
    "#pip install -q findspark # for python 3.11\n",
    "#!pip install pyspark # for python 3.9"
   ]
  },
  {
   "attachments": {},
   "cell_type": "markdown",
   "metadata": {},
   "source": [
    "# Create a spark session\n",
    "\n",
    "**sc is the session**"
   ]
  },
  {
   "cell_type": "code",
   "execution_count": 15,
   "metadata": {},
   "outputs": [
    {
     "data": {
      "text/html": [
       "\n",
       "        <div>\n",
       "            <p><b>SparkContext</b></p>\n",
       "\n",
       "            <p><a href=\"http://Tsuyin:4040\">Spark UI</a></p>\n",
       "\n",
       "            <dl>\n",
       "              <dt>Version</dt>\n",
       "                <dd><code>v3.4.0</code></dd>\n",
       "              <dt>Master</dt>\n",
       "                <dd><code>local[*]</code></dd>\n",
       "              <dt>AppName</dt>\n",
       "                <dd><code>pyspark-shell</code></dd>\n",
       "            </dl>\n",
       "        </div>\n",
       "        "
      ],
      "text/plain": [
       "<SparkContext master=local[*] appName=pyspark-shell>"
      ]
     },
     "execution_count": 15,
     "metadata": {},
     "output_type": "execute_result"
    }
   ],
   "source": [
    "import findspark\n",
    "findspark.init()\n",
    "from pyspark import SparkContext\n",
    "sc = SparkContext.getOrCreate()\n",
    "sc\n"
   ]
  },
  {
   "attachments": {},
   "cell_type": "markdown",
   "metadata": {},
   "source": [
    "# Import pyspark"
   ]
  },
  {
   "cell_type": "code",
   "execution_count": 16,
   "metadata": {},
   "outputs": [
    {
     "data": {
      "text/html": [
       "\n",
       "            <div>\n",
       "                <p><b>SparkSession - in-memory</b></p>\n",
       "                \n",
       "        <div>\n",
       "            <p><b>SparkContext</b></p>\n",
       "\n",
       "            <p><a href=\"http://Tsuyin:4040\">Spark UI</a></p>\n",
       "\n",
       "            <dl>\n",
       "              <dt>Version</dt>\n",
       "                <dd><code>v3.4.0</code></dd>\n",
       "              <dt>Master</dt>\n",
       "                <dd><code>local[*]</code></dd>\n",
       "              <dt>AppName</dt>\n",
       "                <dd><code>pyspark-shell</code></dd>\n",
       "            </dl>\n",
       "        </div>\n",
       "        \n",
       "            </div>\n",
       "        "
      ],
      "text/plain": [
       "<pyspark.sql.session.SparkSession at 0x23a303e6bb0>"
      ]
     },
     "execution_count": 16,
     "metadata": {},
     "output_type": "execute_result"
    }
   ],
   "source": [
    "import pyspark\n",
    "from pyspark.sql import SparkSession\n",
    "spark = SparkSession.builder.getOrCreate()\n",
    "spark"
   ]
  },
  {
   "attachments": {},
   "cell_type": "markdown",
   "metadata": {},
   "source": [
    "# Download dataset \n",
    "#### the data is downloaded from https://data.cityofchicago.org/Public-Safety/Crimes-2001-to-Present/ijzp-q8t2"
   ]
  },
  {
   "cell_type": "code",
   "execution_count": 17,
   "metadata": {},
   "outputs": [
    {
     "data": {
      "text/plain": [
       "['Crimes_-_2001_to_Present.csv', 'intro_spark.ipynb', 'Police_Stations.csv']"
      ]
     },
     "execution_count": 17,
     "metadata": {},
     "output_type": "execute_result"
    }
   ],
   "source": [
    "import os\n",
    "os.listdir()"
   ]
  },
  {
   "cell_type": "code",
   "execution_count": 18,
   "metadata": {},
   "outputs": [],
   "source": [
    "from pyspark.sql.functions import to_timestamp, col, lit\n",
    "\n",
    "df =  spark.read.csv('Crimes_-_2001_to_Present.csv', header=True).withColumn('Date', to_timestamp(col('Date'),'MM/dd/yyy hh:mm:ss a'))\n",
    "\n"
   ]
  },
  {
   "cell_type": "code",
   "execution_count": 19,
   "metadata": {},
   "outputs": [
    {
     "name": "stdout",
     "output_type": "stream",
     "text": [
      "+--------+-----------+-------------------+--------------------+----+------------+--------------------+--------------------+------+--------+----+--------+----+--------------+--------+------------+------------+----+--------------------+------------+-------------+--------------------+\n",
      "|      ID|Case Number|               Date|               Block|IUCR|Primary Type|         Description|Location Description|Arrest|Domestic|Beat|District|Ward|Community Area|FBI Code|X Coordinate|Y Coordinate|Year|          Updated On|    Latitude|    Longitude|            Location|\n",
      "+--------+-----------+-------------------+--------------------+----+------------+--------------------+--------------------+------+--------+----+--------+----+--------------+--------+------------+------------+----+--------------------+------------+-------------+--------------------+\n",
      "|10224738|   HY411648|2015-09-05 13:30:00|     043XX S WOOD ST|0486|     BATTERY|DOMESTIC BATTERY ...|           RESIDENCE| false|    true|0924|     009|  12|            61|     08B|     1165074|     1875917|2015|02/10/2018 03:50:...|41.815117282|-87.669999562|(41.815117282, -8...|\n",
      "|10224739|   HY411615|2015-09-04 11:30:00| 008XX N CENTRAL AVE|0870|       THEFT|      POCKET-PICKING|             CTA BUS| false|   false|1511|     015|  29|            25|      06|     1138875|     1904869|2015|02/10/2018 03:50:...|41.895080471|-87.765400451|(41.895080471, -8...|\n",
      "|11646166|   JC213529|2018-09-01 00:01:00|082XX S INGLESIDE...|0810|       THEFT|           OVER $500|           RESIDENCE| false|    true|0631|     006|   8|            44|      06|        null|        null|2018|04/06/2019 04:04:...|        null|         null|                null|\n",
      "|10224740|   HY411595|2015-09-05 12:45:00|   035XX W BARRY AVE|2023|   NARCOTICS|POSS: HEROIN(BRN/...|            SIDEWALK|  true|   false|1412|     014|  35|            21|      18|     1152037|     1920384|2015|02/10/2018 03:50:...|41.937405765|-87.716649687|(41.937405765, -8...|\n",
      "|10224741|   HY411610|2015-09-05 13:00:00| 0000X N LARAMIE AVE|0560|     ASSAULT|              SIMPLE|           APARTMENT| false|    true|1522|     015|  28|            25|     08A|     1141706|     1900086|2015|02/10/2018 03:50:...|41.881903443|-87.755121152|(41.881903443, -8...|\n",
      "+--------+-----------+-------------------+--------------------+----+------------+--------------------+--------------------+------+--------+----+--------+----+--------------+--------+------------+------------+----+--------------------+------------+-------------+--------------------+\n",
      "only showing top 5 rows\n",
      "\n"
     ]
    }
   ],
   "source": [
    "df.show(5)"
   ]
  },
  {
   "cell_type": "code",
   "execution_count": 20,
   "metadata": {},
   "outputs": [
    {
     "data": {
      "text/plain": [
       "[Row(ID='10224738', Case Number='HY411648', Date=datetime.datetime(2015, 9, 5, 12, 30), Block='043XX S WOOD ST', IUCR='0486', Primary Type='BATTERY', Description='DOMESTIC BATTERY SIMPLE', Location Description='RESIDENCE', Arrest='false', Domestic='true', Beat='0924', District='009', Ward='12', Community Area='61', FBI Code='08B', X Coordinate='1165074', Y Coordinate='1875917', Year='2015', Updated On='02/10/2018 03:50:01 PM', Latitude='41.815117282', Longitude='-87.669999562', Location='(41.815117282, -87.669999562)'),\n",
       " Row(ID='10224739', Case Number='HY411615', Date=datetime.datetime(2015, 9, 4, 10, 30), Block='008XX N CENTRAL AVE', IUCR='0870', Primary Type='THEFT', Description='POCKET-PICKING', Location Description='CTA BUS', Arrest='false', Domestic='false', Beat='1511', District='015', Ward='29', Community Area='25', FBI Code='06', X Coordinate='1138875', Y Coordinate='1904869', Year='2015', Updated On='02/10/2018 03:50:01 PM', Latitude='41.895080471', Longitude='-87.765400451', Location='(41.895080471, -87.765400451)'),\n",
       " Row(ID='11646166', Case Number='JC213529', Date=datetime.datetime(2018, 8, 31, 23, 1), Block='082XX S INGLESIDE AVE', IUCR='0810', Primary Type='THEFT', Description='OVER $500', Location Description='RESIDENCE', Arrest='false', Domestic='true', Beat='0631', District='006', Ward='8', Community Area='44', FBI Code='06', X Coordinate=None, Y Coordinate=None, Year='2018', Updated On='04/06/2019 04:04:43 PM', Latitude=None, Longitude=None, Location=None),\n",
       " Row(ID='10224740', Case Number='HY411595', Date=datetime.datetime(2015, 9, 5, 11, 45), Block='035XX W BARRY AVE', IUCR='2023', Primary Type='NARCOTICS', Description='POSS: HEROIN(BRN/TAN)', Location Description='SIDEWALK', Arrest='true', Domestic='false', Beat='1412', District='014', Ward='35', Community Area='21', FBI Code='18', X Coordinate='1152037', Y Coordinate='1920384', Year='2015', Updated On='02/10/2018 03:50:01 PM', Latitude='41.937405765', Longitude='-87.716649687', Location='(41.937405765, -87.716649687)'),\n",
       " Row(ID='10224741', Case Number='HY411610', Date=datetime.datetime(2015, 9, 5, 12, 0), Block='0000X N LARAMIE AVE', IUCR='0560', Primary Type='ASSAULT', Description='SIMPLE', Location Description='APARTMENT', Arrest='false', Domestic='true', Beat='1522', District='015', Ward='28', Community Area='25', FBI Code='08A', X Coordinate='1141706', Y Coordinate='1900086', Year='2015', Updated On='02/10/2018 03:50:01 PM', Latitude='41.881903443', Longitude='-87.755121152', Location='(41.881903443, -87.755121152)')]"
      ]
     },
     "execution_count": 20,
     "metadata": {},
     "output_type": "execute_result"
    }
   ],
   "source": [
    "df.take(5)"
   ]
  },
  {
   "cell_type": "code",
   "execution_count": 21,
   "metadata": {},
   "outputs": [
    {
     "data": {
      "text/plain": [
       "DataFrame[ID: string, Case Number: string, Date: timestamp, Block: string, IUCR: string, Primary Type: string, Description: string, Location Description: string, Arrest: string, Domestic: string, Beat: string, District: string, Ward: string, Community Area: string, FBI Code: string, X Coordinate: string, Y Coordinate: string, Year: string, Updated On: string, Latitude: string, Longitude: string, Location: string]"
      ]
     },
     "execution_count": 21,
     "metadata": {},
     "output_type": "execute_result"
    }
   ],
   "source": [
    "df.limit(5)"
   ]
  },
  {
   "cell_type": "code",
   "execution_count": 22,
   "metadata": {},
   "outputs": [
    {
     "data": {
      "text/plain": [
       "[Row(ID='10224738', Case Number='HY411648', Date=datetime.datetime(2015, 9, 5, 12, 30), Block='043XX S WOOD ST', IUCR='0486', Primary Type='BATTERY', Description='DOMESTIC BATTERY SIMPLE', Location Description='RESIDENCE', Arrest='false', Domestic='true', Beat='0924', District='009', Ward='12', Community Area='61', FBI Code='08B', X Coordinate='1165074', Y Coordinate='1875917', Year='2015', Updated On='02/10/2018 03:50:01 PM', Latitude='41.815117282', Longitude='-87.669999562', Location='(41.815117282, -87.669999562)'),\n",
       " Row(ID='10224739', Case Number='HY411615', Date=datetime.datetime(2015, 9, 4, 10, 30), Block='008XX N CENTRAL AVE', IUCR='0870', Primary Type='THEFT', Description='POCKET-PICKING', Location Description='CTA BUS', Arrest='false', Domestic='false', Beat='1511', District='015', Ward='29', Community Area='25', FBI Code='06', X Coordinate='1138875', Y Coordinate='1904869', Year='2015', Updated On='02/10/2018 03:50:01 PM', Latitude='41.895080471', Longitude='-87.765400451', Location='(41.895080471, -87.765400451)'),\n",
       " Row(ID='11646166', Case Number='JC213529', Date=datetime.datetime(2018, 8, 31, 23, 1), Block='082XX S INGLESIDE AVE', IUCR='0810', Primary Type='THEFT', Description='OVER $500', Location Description='RESIDENCE', Arrest='false', Domestic='true', Beat='0631', District='006', Ward='8', Community Area='44', FBI Code='06', X Coordinate=None, Y Coordinate=None, Year='2018', Updated On='04/06/2019 04:04:43 PM', Latitude=None, Longitude=None, Location=None),\n",
       " Row(ID='10224740', Case Number='HY411595', Date=datetime.datetime(2015, 9, 5, 11, 45), Block='035XX W BARRY AVE', IUCR='2023', Primary Type='NARCOTICS', Description='POSS: HEROIN(BRN/TAN)', Location Description='SIDEWALK', Arrest='true', Domestic='false', Beat='1412', District='014', Ward='35', Community Area='21', FBI Code='18', X Coordinate='1152037', Y Coordinate='1920384', Year='2015', Updated On='02/10/2018 03:50:01 PM', Latitude='41.937405765', Longitude='-87.716649687', Location='(41.937405765, -87.716649687)'),\n",
       " Row(ID='10224741', Case Number='HY411610', Date=datetime.datetime(2015, 9, 5, 12, 0), Block='0000X N LARAMIE AVE', IUCR='0560', Primary Type='ASSAULT', Description='SIMPLE', Location Description='APARTMENT', Arrest='false', Domestic='true', Beat='1522', District='015', Ward='28', Community Area='25', FBI Code='08A', X Coordinate='1141706', Y Coordinate='1900086', Year='2015', Updated On='02/10/2018 03:50:01 PM', Latitude='41.881903443', Longitude='-87.755121152', Location='(41.881903443, -87.755121152)')]"
      ]
     },
     "execution_count": 22,
     "metadata": {},
     "output_type": "execute_result"
    }
   ],
   "source": [
    "df.head(5)"
   ]
  },
  {
   "attachments": {},
   "cell_type": "markdown",
   "metadata": {},
   "source": [
    "# Definir schemas"
   ]
  },
  {
   "cell_type": "code",
   "execution_count": 23,
   "metadata": {},
   "outputs": [
    {
     "name": "stdout",
     "output_type": "stream",
     "text": [
      "root\n",
      " |-- ID: string (nullable = true)\n",
      " |-- Case Number: string (nullable = true)\n",
      " |-- Date: timestamp (nullable = true)\n",
      " |-- Block: string (nullable = true)\n",
      " |-- IUCR: string (nullable = true)\n",
      " |-- Primary Type: string (nullable = true)\n",
      " |-- Description: string (nullable = true)\n",
      " |-- Location Description: string (nullable = true)\n",
      " |-- Arrest: string (nullable = true)\n",
      " |-- Domestic: string (nullable = true)\n",
      " |-- Beat: string (nullable = true)\n",
      " |-- District: string (nullable = true)\n",
      " |-- Ward: string (nullable = true)\n",
      " |-- Community Area: string (nullable = true)\n",
      " |-- FBI Code: string (nullable = true)\n",
      " |-- X Coordinate: string (nullable = true)\n",
      " |-- Y Coordinate: string (nullable = true)\n",
      " |-- Year: string (nullable = true)\n",
      " |-- Updated On: string (nullable = true)\n",
      " |-- Latitude: string (nullable = true)\n",
      " |-- Longitude: string (nullable = true)\n",
      " |-- Location: string (nullable = true)\n",
      "\n"
     ]
    }
   ],
   "source": [
    "df.printSchema()"
   ]
  },
  {
   "cell_type": "code",
   "execution_count": 24,
   "metadata": {},
   "outputs": [
    {
     "data": {
      "text/plain": [
       "['ID',\n",
       " 'Case Number',\n",
       " 'Date',\n",
       " 'Block',\n",
       " 'IUCR',\n",
       " 'Primary Type',\n",
       " 'Description',\n",
       " 'Location Description',\n",
       " 'Arrest',\n",
       " 'Domestic',\n",
       " 'Beat',\n",
       " 'District',\n",
       " 'Ward',\n",
       " 'Community Area',\n",
       " 'FBI Code',\n",
       " 'X Coordinate',\n",
       " 'Y Coordinate',\n",
       " 'Year',\n",
       " 'Updated On',\n",
       " 'Latitude',\n",
       " 'Longitude',\n",
       " 'Location']"
      ]
     },
     "execution_count": 24,
     "metadata": {},
     "output_type": "execute_result"
    }
   ],
   "source": [
    "df.columns"
   ]
  },
  {
   "cell_type": "code",
   "execution_count": 25,
   "metadata": {},
   "outputs": [],
   "source": [
    "from pyspark.sql.types import StructType, StructField, StringType, TimestampType, BooleanType, DoubleType,IntegerType"
   ]
  },
  {
   "cell_type": "code",
   "execution_count": 26,
   "metadata": {},
   "outputs": [],
   "source": [
    "# We create lables list with the types we want\n",
    "labels = [('ID', StringType()),\n",
    " ('Case Number', StringType()),\n",
    " ('Date', TimestampType()),\n",
    " ('Block', StringType()),\n",
    " ('IUCR', StringType()),\n",
    " ('Primary Type', StringType()),\n",
    " ('Description', StringType()),\n",
    " ('Location Description', StringType()),\n",
    " ('Arrest', StringType()),\n",
    " ('Domestic', BooleanType()),\n",
    " ('Beat', StringType()),\n",
    " ('District', StringType()),\n",
    " ('Ward', StringType()),\n",
    " ('Community Area', StringType()),\n",
    " ('FBI Code', StringType()),\n",
    " ('X Coordinate', StringType()),\n",
    " ('Y Coordinate', StringType()),\n",
    " ('Year', IntegerType()),\n",
    " ('Updated On', StringType()),\n",
    " ('Latitude', DoubleType()),\n",
    " ('Longitude', DoubleType()),\n",
    " ('Location', StringType())\n",
    " ]"
   ]
  },
  {
   "cell_type": "code",
   "execution_count": 27,
   "metadata": {},
   "outputs": [
    {
     "data": {
      "text/plain": [
       "StructType([StructField('ID', StringType(), True), StructField('Case Number', StringType(), True), StructField('Date', TimestampType(), True), StructField('Block', StringType(), True), StructField('IUCR', StringType(), True), StructField('Primary Type', StringType(), True), StructField('Description', StringType(), True), StructField('Location Description', StringType(), True), StructField('Arrest', StringType(), True), StructField('Domestic', BooleanType(), True), StructField('Beat', StringType(), True), StructField('District', StringType(), True), StructField('Ward', StringType(), True), StructField('Community Area', StringType(), True), StructField('FBI Code', StringType(), True), StructField('X Coordinate', StringType(), True), StructField('Y Coordinate', StringType(), True), StructField('Year', IntegerType(), True), StructField('Updated On', StringType(), True), StructField('Latitude', DoubleType(), True), StructField('Longitude', DoubleType(), True), StructField('Location', StringType(), True)])"
      ]
     },
     "execution_count": 27,
     "metadata": {},
     "output_type": "execute_result"
    }
   ],
   "source": [
    "# Create the schema to pass it to the .scv file\n",
    "schema = StructType([StructField (x[0],x[1], True) for x in labels])\n",
    "schema"
   ]
  },
  {
   "cell_type": "code",
   "execution_count": 28,
   "metadata": {},
   "outputs": [
    {
     "name": "stdout",
     "output_type": "stream",
     "text": [
      "root\n",
      " |-- ID: string (nullable = true)\n",
      " |-- Case Number: string (nullable = true)\n",
      " |-- Date: timestamp (nullable = true)\n",
      " |-- Block: string (nullable = true)\n",
      " |-- IUCR: string (nullable = true)\n",
      " |-- Primary Type: string (nullable = true)\n",
      " |-- Description: string (nullable = true)\n",
      " |-- Location Description: string (nullable = true)\n",
      " |-- Arrest: string (nullable = true)\n",
      " |-- Domestic: boolean (nullable = true)\n",
      " |-- Beat: string (nullable = true)\n",
      " |-- District: string (nullable = true)\n",
      " |-- Ward: string (nullable = true)\n",
      " |-- Community Area: string (nullable = true)\n",
      " |-- FBI Code: string (nullable = true)\n",
      " |-- X Coordinate: string (nullable = true)\n",
      " |-- Y Coordinate: string (nullable = true)\n",
      " |-- Year: integer (nullable = true)\n",
      " |-- Updated On: string (nullable = true)\n",
      " |-- Latitude: double (nullable = true)\n",
      " |-- Longitude: double (nullable = true)\n",
      " |-- Location: string (nullable = true)\n",
      "\n"
     ]
    }
   ],
   "source": [
    "# lets load the file a supply the schema\n",
    "df =  spark.read.csv('Crimes_-_2001_to_Present.csv',header= True, schema=schema)\n",
    "df.printSchema()\n",
    "# As we can see there are some diferent types than the ones we print in the first spark.read.scv"
   ]
  },
  {
   "cell_type": "code",
   "execution_count": 29,
   "metadata": {},
   "outputs": [
    {
     "name": "stdout",
     "output_type": "stream",
     "text": [
      "+--------+-----------+----+--------------------+----+------------+--------------------+--------------------+------+--------+----+--------+----+--------------+--------+------------+------------+----+--------------------+------------+-------------+--------------------+\n",
      "|      ID|Case Number|Date|               Block|IUCR|Primary Type|         Description|Location Description|Arrest|Domestic|Beat|District|Ward|Community Area|FBI Code|X Coordinate|Y Coordinate|Year|          Updated On|    Latitude|    Longitude|            Location|\n",
      "+--------+-----------+----+--------------------+----+------------+--------------------+--------------------+------+--------+----+--------+----+--------------+--------+------------+------------+----+--------------------+------------+-------------+--------------------+\n",
      "|10224738|   HY411648|null|     043XX S WOOD ST|0486|     BATTERY|DOMESTIC BATTERY ...|           RESIDENCE| false|    true|0924|     009|  12|            61|     08B|     1165074|     1875917|2015|02/10/2018 03:50:...|41.815117282|-87.669999562|(41.815117282, -8...|\n",
      "|10224739|   HY411615|null| 008XX N CENTRAL AVE|0870|       THEFT|      POCKET-PICKING|             CTA BUS| false|   false|1511|     015|  29|            25|      06|     1138875|     1904869|2015|02/10/2018 03:50:...|41.895080471|-87.765400451|(41.895080471, -8...|\n",
      "|11646166|   JC213529|null|082XX S INGLESIDE...|0810|       THEFT|           OVER $500|           RESIDENCE| false|    true|0631|     006|   8|            44|      06|        null|        null|2018|04/06/2019 04:04:...|        null|         null|                null|\n",
      "|10224740|   HY411595|null|   035XX W BARRY AVE|2023|   NARCOTICS|POSS: HEROIN(BRN/...|            SIDEWALK|  true|   false|1412|     014|  35|            21|      18|     1152037|     1920384|2015|02/10/2018 03:50:...|41.937405765|-87.716649687|(41.937405765, -8...|\n",
      "|10224741|   HY411610|null| 0000X N LARAMIE AVE|0560|     ASSAULT|              SIMPLE|           APARTMENT| false|    true|1522|     015|  28|            25|     08A|     1141706|     1900086|2015|02/10/2018 03:50:...|41.881903443|-87.755121152|(41.881903443, -8...|\n",
      "+--------+-----------+----+--------------------+----+------------+--------------------+--------------------+------+--------+----+--------+----+--------------+--------+------------+------------+----+--------------------+------------+-------------+--------------------+\n",
      "only showing top 5 rows\n",
      "\n"
     ]
    }
   ],
   "source": [
    "df.show(5)\n",
    "# some schemas dont work so we have to work with this kind of events now an then"
   ]
  },
  {
   "attachments": {},
   "cell_type": "markdown",
   "metadata": {},
   "source": [
    "# Columns  in Pyspark"
   ]
  },
  {
   "attachments": {},
   "cell_type": "markdown",
   "metadata": {},
   "source": [
    "## Select"
   ]
  },
  {
   "cell_type": "code",
   "execution_count": 30,
   "metadata": {},
   "outputs": [
    {
     "data": {
      "text/plain": [
       "Column<'Block'>"
      ]
     },
     "execution_count": 30,
     "metadata": {},
     "output_type": "execute_result"
    }
   ],
   "source": [
    "df.Block"
   ]
  },
  {
   "cell_type": "code",
   "execution_count": 31,
   "metadata": {},
   "outputs": [
    {
     "data": {
      "text/plain": [
       "Column<'Block'>"
      ]
     },
     "execution_count": 31,
     "metadata": {},
     "output_type": "execute_result"
    }
   ],
   "source": [
    "df['Block']"
   ]
  },
  {
   "cell_type": "code",
   "execution_count": 32,
   "metadata": {},
   "outputs": [
    {
     "name": "stdout",
     "output_type": "stream",
     "text": [
      "+--------------------+\n",
      "|               Block|\n",
      "+--------------------+\n",
      "|     043XX S WOOD ST|\n",
      "| 008XX N CENTRAL AVE|\n",
      "|082XX S INGLESIDE...|\n",
      "+--------------------+\n",
      "only showing top 3 rows\n",
      "\n"
     ]
    }
   ],
   "source": [
    "df.select(col('Block')).show(3)"
   ]
  },
  {
   "attachments": {},
   "cell_type": "markdown",
   "metadata": {},
   "source": [
    "## Add"
   ]
  },
  {
   "cell_type": "code",
   "execution_count": 33,
   "metadata": {},
   "outputs": [
    {
     "name": "stdout",
     "output_type": "stream",
     "text": [
      "+--------+-----------+----+--------------------+----+------------+--------------------+--------------------+------+--------+----+--------+----+--------------+--------+------------+------------+----+--------------------+------------+-------------+--------------------+--------+\n",
      "|      ID|Case Number|Date|               Block|IUCR|Primary Type|         Description|Location Description|Arrest|Domestic|Beat|District|Ward|Community Area|FBI Code|X Coordinate|Y Coordinate|Year|          Updated On|    Latitude|    Longitude|            Location|Ward_x_2|\n",
      "+--------+-----------+----+--------------------+----+------------+--------------------+--------------------+------+--------+----+--------+----+--------------+--------+------------+------------+----+--------------------+------------+-------------+--------------------+--------+\n",
      "|10224738|   HY411648|null|     043XX S WOOD ST|0486|     BATTERY|DOMESTIC BATTERY ...|           RESIDENCE| false|    true|0924|     009|  12|            61|     08B|     1165074|     1875917|2015|02/10/2018 03:50:...|41.815117282|-87.669999562|(41.815117282, -8...|    24.0|\n",
      "|10224739|   HY411615|null| 008XX N CENTRAL AVE|0870|       THEFT|      POCKET-PICKING|             CTA BUS| false|   false|1511|     015|  29|            25|      06|     1138875|     1904869|2015|02/10/2018 03:50:...|41.895080471|-87.765400451|(41.895080471, -8...|    58.0|\n",
      "|11646166|   JC213529|null|082XX S INGLESIDE...|0810|       THEFT|           OVER $500|           RESIDENCE| false|    true|0631|     006|   8|            44|      06|        null|        null|2018|04/06/2019 04:04:...|        null|         null|                null|    16.0|\n",
      "+--------+-----------+----+--------------------+----+------------+--------------------+--------------------+------+--------+----+--------+----+--------------+--------+------------+------------+----+--------------------+------------+-------------+--------------------+--------+\n",
      "only showing top 3 rows\n",
      "\n"
     ]
    }
   ],
   "source": [
    "df_ward = df.withColumn('Ward_x_2' , 2*df['Ward'])\n",
    "df_ward.show(3)\n",
    "\n",
    "# We can se the result at the end of the dataset"
   ]
  },
  {
   "attachments": {},
   "cell_type": "markdown",
   "metadata": {},
   "source": [
    "### another way to add with lit"
   ]
  },
  {
   "cell_type": "code",
   "execution_count": 34,
   "metadata": {},
   "outputs": [
    {
     "name": "stdout",
     "output_type": "stream",
     "text": [
      "+--------+-----------+----+--------------------+----+------------+--------------------+--------------------+------+--------+----+--------+----+--------------+--------+------------+------------+----+--------------------+------------+-------------+--------------------+---+\n",
      "|      ID|Case Number|Date|               Block|IUCR|Primary Type|         Description|Location Description|Arrest|Domestic|Beat|District|Ward|Community Area|FBI Code|X Coordinate|Y Coordinate|Year|          Updated On|    Latitude|    Longitude|            Location|one|\n",
      "+--------+-----------+----+--------------------+----+------------+--------------------+--------------------+------+--------+----+--------+----+--------------+--------+------------+------------+----+--------------------+------------+-------------+--------------------+---+\n",
      "|10224738|   HY411648|null|     043XX S WOOD ST|0486|     BATTERY|DOMESTIC BATTERY ...|           RESIDENCE| false|    true|0924|     009|  12|            61|     08B|     1165074|     1875917|2015|02/10/2018 03:50:...|41.815117282|-87.669999562|(41.815117282, -8...|  1|\n",
      "|10224739|   HY411615|null| 008XX N CENTRAL AVE|0870|       THEFT|      POCKET-PICKING|             CTA BUS| false|   false|1511|     015|  29|            25|      06|     1138875|     1904869|2015|02/10/2018 03:50:...|41.895080471|-87.765400451|(41.895080471, -8...|  1|\n",
      "|11646166|   JC213529|null|082XX S INGLESIDE...|0810|       THEFT|           OVER $500|           RESIDENCE| false|    true|0631|     006|   8|            44|      06|        null|        null|2018|04/06/2019 04:04:...|        null|         null|                null|  1|\n",
      "|10224740|   HY411595|null|   035XX W BARRY AVE|2023|   NARCOTICS|POSS: HEROIN(BRN/...|            SIDEWALK|  true|   false|1412|     014|  35|            21|      18|     1152037|     1920384|2015|02/10/2018 03:50:...|41.937405765|-87.716649687|(41.937405765, -8...|  1|\n",
      "|10224741|   HY411610|null| 0000X N LARAMIE AVE|0560|     ASSAULT|              SIMPLE|           APARTMENT| false|    true|1522|     015|  28|            25|     08A|     1141706|     1900086|2015|02/10/2018 03:50:...|41.881903443|-87.755121152|(41.881903443, -8...|  1|\n",
      "+--------+-----------+----+--------------------+----+------------+--------------------+--------------------+------+--------+----+--------+----+--------------+--------+------------+------------+----+--------------------+------------+-------------+--------------------+---+\n",
      "only showing top 5 rows\n",
      "\n"
     ]
    }
   ],
   "source": [
    "df.withColumn('one', lit(1)).show(5)\n",
    "# Create a new column with number one at the end of the dataset"
   ]
  },
  {
   "attachments": {},
   "cell_type": "markdown",
   "metadata": {},
   "source": [
    "# Rename"
   ]
  },
  {
   "cell_type": "code",
   "execution_count": 35,
   "metadata": {},
   "outputs": [
    {
     "name": "stdout",
     "output_type": "stream",
     "text": [
      "+--------+-----------+----+--------------------+----+------------+--------------------+--------------------+------+--------+----+--------+----+--------------+--------+------------+------------+----+--------------------+------------+-------------+--------------------+------------+\n",
      "|      ID|Case Number|Date|               Block|IUCR|Primary Type|         Description|Location Description|Arrest|Domestic|Beat|District|Ward|Community Area|FBI Code|X Coordinate|Y Coordinate|Year|          Updated On|    Latitude|    Longitude|            Location|Ward_times_2|\n",
      "+--------+-----------+----+--------------------+----+------------+--------------------+--------------------+------+--------+----+--------+----+--------------+--------+------------+------------+----+--------------------+------------+-------------+--------------------+------------+\n",
      "|10224738|   HY411648|null|     043XX S WOOD ST|0486|     BATTERY|DOMESTIC BATTERY ...|           RESIDENCE| false|    true|0924|     009|  12|            61|     08B|     1165074|     1875917|2015|02/10/2018 03:50:...|41.815117282|-87.669999562|(41.815117282, -8...|        24.0|\n",
      "|10224739|   HY411615|null| 008XX N CENTRAL AVE|0870|       THEFT|      POCKET-PICKING|             CTA BUS| false|   false|1511|     015|  29|            25|      06|     1138875|     1904869|2015|02/10/2018 03:50:...|41.895080471|-87.765400451|(41.895080471, -8...|        58.0|\n",
      "|11646166|   JC213529|null|082XX S INGLESIDE...|0810|       THEFT|           OVER $500|           RESIDENCE| false|    true|0631|     006|   8|            44|      06|        null|        null|2018|04/06/2019 04:04:...|        null|         null|                null|        16.0|\n",
      "|10224740|   HY411595|null|   035XX W BARRY AVE|2023|   NARCOTICS|POSS: HEROIN(BRN/...|            SIDEWALK|  true|   false|1412|     014|  35|            21|      18|     1152037|     1920384|2015|02/10/2018 03:50:...|41.937405765|-87.716649687|(41.937405765, -8...|        70.0|\n",
      "|10224741|   HY411610|null| 0000X N LARAMIE AVE|0560|     ASSAULT|              SIMPLE|           APARTMENT| false|    true|1522|     015|  28|            25|     08A|     1141706|     1900086|2015|02/10/2018 03:50:...|41.881903443|-87.755121152|(41.881903443, -8...|        56.0|\n",
      "+--------+-----------+----+--------------------+----+------------+--------------------+--------------------+------+--------+----+--------+----+--------------+--------+------------+------------+----+--------------------+------------+-------------+--------------------+------------+\n",
      "only showing top 5 rows\n",
      "\n"
     ]
    }
   ],
   "source": [
    "df_= df_ward.withColumnRenamed('Ward_x_2', 'Ward_times_2')\n",
    "df_.show(5)"
   ]
  },
  {
   "attachments": {},
   "cell_type": "markdown",
   "metadata": {},
   "source": [
    "# Drop"
   ]
  },
  {
   "cell_type": "code",
   "execution_count": 36,
   "metadata": {},
   "outputs": [
    {
     "name": "stdout",
     "output_type": "stream",
     "text": [
      "+--------+-----------+----+--------------------+----+------------+--------------------+--------------------+------+--------+----+--------+----+--------------+--------+------------+------------+----+--------------------+------------+-------------+--------------------+\n",
      "|      ID|Case Number|Date|               Block|IUCR|Primary Type|         Description|Location Description|Arrest|Domestic|Beat|District|Ward|Community Area|FBI Code|X Coordinate|Y Coordinate|Year|          Updated On|    Latitude|    Longitude|            Location|\n",
      "+--------+-----------+----+--------------------+----+------------+--------------------+--------------------+------+--------+----+--------+----+--------------+--------+------------+------------+----+--------------------+------------+-------------+--------------------+\n",
      "|10224738|   HY411648|null|     043XX S WOOD ST|0486|     BATTERY|DOMESTIC BATTERY ...|           RESIDENCE| false|    true|0924|     009|  12|            61|     08B|     1165074|     1875917|2015|02/10/2018 03:50:...|41.815117282|-87.669999562|(41.815117282, -8...|\n",
      "|10224739|   HY411615|null| 008XX N CENTRAL AVE|0870|       THEFT|      POCKET-PICKING|             CTA BUS| false|   false|1511|     015|  29|            25|      06|     1138875|     1904869|2015|02/10/2018 03:50:...|41.895080471|-87.765400451|(41.895080471, -8...|\n",
      "|11646166|   JC213529|null|082XX S INGLESIDE...|0810|       THEFT|           OVER $500|           RESIDENCE| false|    true|0631|     006|   8|            44|      06|        null|        null|2018|04/06/2019 04:04:...|        null|         null|                null|\n",
      "|10224740|   HY411595|null|   035XX W BARRY AVE|2023|   NARCOTICS|POSS: HEROIN(BRN/...|            SIDEWALK|  true|   false|1412|     014|  35|            21|      18|     1152037|     1920384|2015|02/10/2018 03:50:...|41.937405765|-87.716649687|(41.937405765, -8...|\n",
      "|10224741|   HY411610|null| 0000X N LARAMIE AVE|0560|     ASSAULT|              SIMPLE|           APARTMENT| false|    true|1522|     015|  28|            25|     08A|     1141706|     1900086|2015|02/10/2018 03:50:...|41.881903443|-87.755121152|(41.881903443, -8...|\n",
      "+--------+-----------+----+--------------------+----+------------+--------------------+--------------------+------+--------+----+--------+----+--------------+--------+------------+------------+----+--------------------+------------+-------------+--------------------+\n",
      "only showing top 5 rows\n",
      "\n"
     ]
    }
   ],
   "source": [
    "df_drop = df_.drop('Ward_times_2')\n",
    "df_drop.show(5)"
   ]
  },
  {
   "attachments": {},
   "cell_type": "markdown",
   "metadata": {},
   "source": [
    "# Group By"
   ]
  },
  {
   "cell_type": "code",
   "execution_count": 37,
   "metadata": {},
   "outputs": [
    {
     "name": "stdout",
     "output_type": "stream",
     "text": [
      "+--------------------+-----+-----+\n",
      "|        Primary Type|false| true|\n",
      "+--------------------+-----+-----+\n",
      "|OFFENSE INVOLVING...|44747|11041|\n",
      "|CRIMINAL SEXUAL A...| 6220|  503|\n",
      "|            STALKING| 4150|  655|\n",
      "|PUBLIC PEACE VIOL...|19370|32980|\n",
      "|           OBSCENITY|  176|  647|\n",
      "+--------------------+-----+-----+\n",
      "only showing top 5 rows\n",
      "\n"
     ]
    }
   ],
   "source": [
    "df_groupby= df_drop.groupBy('Primary Type').pivot(\"Arrest\").count()\n",
    "\n",
    "# You cannot use show() on a GroupedData object without using an aggregate function (such as sum() or even count()) on it before.\n",
    "df_groupby.show(5)\n",
    "\n",
    "#This is a really expensive sentence if you dont have the need don't gruop"
   ]
  },
  {
   "attachments": {},
   "cell_type": "markdown",
   "metadata": {},
   "source": [
    "# Filtering"
   ]
  },
  {
   "cell_type": "code",
   "execution_count": 38,
   "metadata": {},
   "outputs": [
    {
     "name": "stdout",
     "output_type": "stream",
     "text": [
      "+--------+-----------+----+--------------------+----+------------+--------------------+--------------------+------+--------+----+--------+----+--------------+--------+------------+------------+----+--------------------+------------+-------------+--------------------+\n",
      "|      ID|Case Number|Date|               Block|IUCR|Primary Type|         Description|Location Description|Arrest|Domestic|Beat|District|Ward|Community Area|FBI Code|X Coordinate|Y Coordinate|Year|          Updated On|    Latitude|    Longitude|            Location|\n",
      "+--------+-----------+----+--------------------+----+------------+--------------------+--------------------+------+--------+----+--------+----+--------------+--------+------------+------------+----+--------------------+------------+-------------+--------------------+\n",
      "|10224738|   HY411648|null|     043XX S WOOD ST|0486|     BATTERY|DOMESTIC BATTERY ...|           RESIDENCE| false|    true|0924|     009|  12|            61|     08B|     1165074|     1875917|2015|02/10/2018 03:50:...|41.815117282|-87.669999562|(41.815117282, -8...|\n",
      "|10224749|   HY411626|null|052XX N MILWAUKEE...|0460|     BATTERY|              SIMPLE|  SMALL RETAIL STORE| false|   false|1623|     016|  45|            11|     08B|     1137969|     1934340|2015|02/10/2018 03:50:...|41.975968415|-87.768014257|(41.975968415, -8...|\n",
      "|10224751|   HY411566|null|     013XX E 47TH ST|0486|     BATTERY|DOMESTIC BATTERY ...|              STREET| false|    true|0222|     002|   4|            39|     08B|     1185907|     1874105|2015|02/10/2018 03:50:...|41.809678314|-87.593638934|(41.809678314, -8...|\n",
      "|10224753|   HY411489|null|  080XX S JUSTINE ST|0497|     BATTERY|AGGRAVATED DOMEST...|           APARTMENT| false|   false|0612|     006|  21|            71|     04B|     1167400|     1851512|2015|02/10/2018 03:50:...|41.748097343|-87.662166183|(41.748097343, -8...|\n",
      "|10224758|   HY411568|null|    059XX W GRACE ST|0486|     BATTERY|DOMESTIC BATTERY ...|              STREET| false|    true|1633|     016|  38|            15|     08B|     1136014|     1924656|2015|02/10/2018 03:50:...|41.949429769|-87.775435529|(41.949429769, -8...|\n",
      "+--------+-----------+----+--------------------+----+------------+--------------------+--------------------+------+--------+----+--------+----+--------------+--------+------------+------------+----+--------------------+------------+-------------+--------------------+\n",
      "only showing top 5 rows\n",
      "\n"
     ]
    }
   ],
   "source": [
    "df_drop.filter(col('primary type') == 'BATTERY' ).show(5)"
   ]
  },
  {
   "attachments": {},
   "cell_type": "markdown",
   "metadata": {},
   "source": [
    "# Unique"
   ]
  },
  {
   "cell_type": "code",
   "execution_count": 39,
   "metadata": {},
   "outputs": [
    {
     "name": "stdout",
     "output_type": "stream",
     "text": [
      "+--------------------+\n",
      "|        Primary Type|\n",
      "+--------------------+\n",
      "|OFFENSE INVOLVING...|\n",
      "|CRIMINAL SEXUAL A...|\n",
      "|            STALKING|\n",
      "|PUBLIC PEACE VIOL...|\n",
      "|           OBSCENITY|\n",
      "+--------------------+\n",
      "only showing top 5 rows\n",
      "\n"
     ]
    }
   ],
   "source": [
    "df_drop.select('Primary Type').distinct().show(5)"
   ]
  },
  {
   "attachments": {},
   "cell_type": "markdown",
   "metadata": {},
   "source": [
    "# Sort"
   ]
  },
  {
   "cell_type": "code",
   "execution_count": 40,
   "metadata": {},
   "outputs": [
    {
     "name": "stdout",
     "output_type": "stream",
     "text": [
      "+--------+-----------+----+--------------------+----+-----------------+--------------------+--------------------+------+--------+----+--------+----+--------------+--------+------------+------------+----+--------------------+------------+-------------+--------------------+\n",
      "|      ID|Case Number|Date|               Block|IUCR|     Primary Type|         Description|Location Description|Arrest|Domestic|Beat|District|Ward|Community Area|FBI Code|X Coordinate|Y Coordinate|Year|          Updated On|    Latitude|    Longitude|            Location|\n",
      "+--------+-----------+----+--------------------+----+-----------------+--------------------+--------------------+------+--------+----+--------+----+--------------+--------+------------+------------+----+--------------------+------------+-------------+--------------------+\n",
      "|10138929|   HY328113|null|  065XX S JUSTINE ST|143A|WEAPONS VIOLATION|UNLAWFUL POSS OF ...|VEHICLE NON-COMME...|  true|   false|0725|     007|  17|            67|      15|     1167132|     1861329|2015|02/10/2018 03:50:...|41.775042244|-87.662867848|(41.775042244, -8...|\n",
      "|12038110|   JD217948|null|     022XX W 50TH ST|1460|WEAPONS VIOLATION|POSSESS FIREARM /...|           APARTMENT|  true|   false|0931|     009|  15|            63|      15|     1162190|     1871477|2020|05/03/2020 03:47:...|41.802993986|-87.680702222|(41.802993986, -8...|\n",
      "| 8172449|   HT406856|null|014XX W MARQUETTE RD|143A|WEAPONS VIOLATION|UNLAWFUL POSS OF ...|              STREET|  true|   false|0725|     007|  17|            67|      15|     1167674|     1860311|2011|02/10/2018 03:50:...|41.772237109|-87.660910126|(41.772237109, -8...|\n",
      "|12037501|   JD217326|null|046XX S WINCHESTE...|141C|WEAPONS VIOLATION|UNLAWFUL USE - OT...|              STREET| false|   false|0924|     009|  15|            61|      15|     1164131|     1874004|2020|05/03/2020 03:47:...|41.809887711|-87.673512514|(41.809887711, -8...|\n",
      "| 8984914|   HW132194|null|   043XX W MONROE ST|143A|WEAPONS VIOLATION|UNLAWFUL POSS OF ...|           APARTMENT|  true|   false|1115|     011|  28|            26|      15|     1147503|     1899309|2013|02/10/2018 03:50:...|41.879662116| -87.73385436|(41.879662116, -8...|\n",
      "+--------+-----------+----+--------------------+----+-----------------+--------------------+--------------------+------+--------+----+--------+----+--------------+--------+------------+------------+----+--------------------+------------+-------------+--------------------+\n",
      "only showing top 5 rows\n",
      "\n"
     ]
    }
   ],
   "source": [
    "df_drop.orderBy(col('Primary Type'), ascending = False).show(5)"
   ]
  },
  {
   "attachments": {},
   "cell_type": "markdown",
   "metadata": {},
   "source": [
    "# Append\n",
    "#### rules:\n",
    "*  Same number of columns\n",
    "*  Same Schema\n",
    "- df.union(df2)"
   ]
  },
  {
   "attachments": {},
   "cell_type": "markdown",
   "metadata": {},
   "source": [
    "# Built-in Functions"
   ]
  },
  {
   "cell_type": "code",
   "execution_count": 41,
   "metadata": {},
   "outputs": [
    {
     "name": "stdout",
     "output_type": "stream",
     "text": [
      "['Any', 'ArrayType', 'Callable', 'Column', 'DataFrame', 'DataType', 'Dict', 'Iterable', 'JVMView', 'List', 'Optional', 'PandasUDFType', 'PySparkTypeError', 'PySparkValueError', 'PythonEvalType', 'SparkContext', 'StringType', 'StructType', 'TYPE_CHECKING', 'Tuple', 'Union', 'UserDefinedFunction', 'ValuesView', '__builtins__', '__cached__', '__doc__', '__file__', '__loader__', '__name__', '__package__', '__spec__', '_create_column_from_literal', '_create_lambda', '_create_py_udf', '_from_numpy_type', '_get_jvm_function', '_get_lambda_parameters', '_invoke_binary_math_function', '_invoke_function', '_invoke_function_over_columns', '_invoke_function_over_seq_of_columns', '_invoke_higher_order_function', '_options_to_str', '_test', '_to_java_column', '_to_seq', '_unresolved_named_lambda_variable', 'abs', 'acos', 'acosh', 'add_months', 'aggregate', 'approxCountDistinct', 'approx_count_distinct', 'array', 'array_append', 'array_compact', 'array_contains', 'array_distinct', 'array_except', 'array_insert', 'array_intersect', 'array_join', 'array_max', 'array_min', 'array_position', 'array_remove', 'array_repeat', 'array_sort', 'array_union', 'arrays_overlap', 'arrays_zip', 'asc', 'asc_nulls_first', 'asc_nulls_last', 'ascii', 'asin', 'asinh', 'assert_true', 'atan', 'atan2', 'atanh', 'avg', 'base64', 'bin', 'bit_length', 'bitwiseNOT', 'bitwise_not', 'broadcast', 'bround', 'bucket', 'call_udf', 'cast', 'cbrt', 'ceil', 'coalesce', 'col', 'collect_list', 'collect_set', 'column', 'concat', 'concat_ws', 'conv', 'corr', 'cos', 'cosh', 'cot', 'count', 'countDistinct', 'count_distinct', 'covar_pop', 'covar_samp', 'crc32', 'create_map', 'csc', 'cume_dist', 'current_date', 'current_timestamp', 'date_add', 'date_format', 'date_sub', 'date_trunc', 'datediff', 'dayofmonth', 'dayofweek', 'dayofyear', 'days', 'decode', 'degrees', 'dense_rank', 'desc', 'desc_nulls_first', 'desc_nulls_last', 'element_at', 'encode', 'exists', 'exp', 'explode', 'explode_outer', 'expm1', 'expr', 'factorial', 'filter', 'first', 'flatten', 'floor', 'forall', 'format_number', 'format_string', 'from_csv', 'from_json', 'from_unixtime', 'from_utc_timestamp', 'functools', 'get', 'get_active_spark_context', 'get_json_object', 'greatest', 'grouping', 'grouping_id', 'has_numpy', 'hash', 'hex', 'hour', 'hours', 'hypot', 'initcap', 'inline', 'inline_outer', 'input_file_name', 'inspect', 'instr', 'isnan', 'isnull', 'json_tuple', 'kurtosis', 'lag', 'last', 'last_day', 'lead', 'least', 'length', 'levenshtein', 'lit', 'localtimestamp', 'locate', 'log', 'log10', 'log1p', 'log2', 'lower', 'lpad', 'ltrim', 'make_date', 'map_concat', 'map_contains_key', 'map_entries', 'map_filter', 'map_from_arrays', 'map_from_entries', 'map_keys', 'map_values', 'map_zip_with', 'max', 'max_by', 'md5', 'mean', 'median', 'min', 'min_by', 'minute', 'mode', 'monotonically_increasing_id', 'month', 'months', 'months_between', 'nanvl', 'next_day', 'np', 'nth_value', 'ntile', 'octet_length', 'overlay', 'overload', 'pandas_udf', 'percent_rank', 'percentile_approx', 'pmod', 'posexplode', 'posexplode_outer', 'pow', 'product', 'quarter', 'radians', 'raise_error', 'rand', 'randn', 'rank', 'regexp_extract', 'regexp_replace', 'repeat', 'reverse', 'rint', 'round', 'row_number', 'rpad', 'rtrim', 'schema_of_csv', 'schema_of_json', 'sec', 'second', 'sentences', 'sequence', 'session_window', 'sha1', 'sha2', 'shiftLeft', 'shiftRight', 'shiftRightUnsigned', 'shiftleft', 'shiftright', 'shiftrightunsigned', 'shuffle', 'signum', 'sin', 'sinh', 'size', 'skewness', 'slice', 'sort_array', 'soundex', 'spark_partition_id', 'split', 'sqrt', 'stddev', 'stddev_pop', 'stddev_samp', 'struct', 'substring', 'substring_index', 'sum', 'sumDistinct', 'sum_distinct', 'sys', 'tan', 'tanh', 'timestamp_seconds', 'toDegrees', 'toRadians', 'to_csv', 'to_date', 'to_json', 'to_str', 'to_timestamp', 'to_utc_timestamp', 'transform', 'transform_keys', 'transform_values', 'translate', 'trim', 'trunc', 'try_remote_functions', 'udf', 'unbase64', 'unhex', 'unix_timestamp', 'unwrap_udt', 'upper', 'var_pop', 'var_samp', 'variance', 'warnings', 'weekofyear', 'when', 'window', 'window_time', 'xxhash64', 'year', 'years', 'zip_with']\n"
     ]
    }
   ],
   "source": [
    "from pyspark.sql import functions\n",
    "print(dir(functions))"
   ]
  },
  {
   "attachments": {},
   "cell_type": "markdown",
   "metadata": {},
   "source": [
    "## String Functions"
   ]
  },
  {
   "cell_type": "code",
   "execution_count": 42,
   "metadata": {},
   "outputs": [],
   "source": [
    "from pyspark.sql.functions import lower, upper, substring, min, max, to_date, to_timestamp"
   ]
  },
  {
   "cell_type": "code",
   "execution_count": 43,
   "metadata": {},
   "outputs": [
    {
     "name": "stdout",
     "output_type": "stream",
     "text": [
      "Help on function substring in module pyspark.sql.functions:\n",
      "\n",
      "substring(str: 'ColumnOrName', pos: int, len: int) -> pyspark.sql.column.Column\n",
      "    Substring starts at `pos` and is of length `len` when str is String type or\n",
      "    returns the slice of byte array that starts at `pos` in byte and is of length `len`\n",
      "    when str is Binary type.\n",
      "    \n",
      "    .. versionadded:: 1.5.0\n",
      "    \n",
      "    .. versionchanged:: 3.4.0\n",
      "        Supports Spark Connect.\n",
      "    \n",
      "    Notes\n",
      "    -----\n",
      "    The position is not zero based, but 1 based index.\n",
      "    \n",
      "    Parameters\n",
      "    ----------\n",
      "    str : :class:`~pyspark.sql.Column` or str\n",
      "        target column to work on.\n",
      "    pos : int\n",
      "        starting position in str.\n",
      "    len : int\n",
      "        length of chars.\n",
      "    \n",
      "    Returns\n",
      "    -------\n",
      "    :class:`~pyspark.sql.Column`\n",
      "        substring of given value.\n",
      "    \n",
      "    Examples\n",
      "    --------\n",
      "    >>> df = spark.createDataFrame([('abcd',)], ['s',])\n",
      "    >>> df.select(substring(df.s, 1, 2).alias('s')).collect()\n",
      "    [Row(s='ab')]\n",
      "\n"
     ]
    }
   ],
   "source": [
    "help(substring)"
   ]
  },
  {
   "cell_type": "code",
   "execution_count": 44,
   "metadata": {},
   "outputs": [
    {
     "name": "stdout",
     "output_type": "stream",
     "text": [
      "+-------------------+-------------------+-----------------------------+\n",
      "|lower(Primary Type)|upper(Primary Type)|substring(Primary Type, 1, 4)|\n",
      "+-------------------+-------------------+-----------------------------+\n",
      "|            battery|            BATTERY|                         BATT|\n",
      "|              theft|              THEFT|                         THEF|\n",
      "|              theft|              THEFT|                         THEF|\n",
      "|          narcotics|          NARCOTICS|                         NARC|\n",
      "|            assault|            ASSAULT|                         ASSA|\n",
      "+-------------------+-------------------+-----------------------------+\n",
      "only showing top 5 rows\n",
      "\n"
     ]
    }
   ],
   "source": [
    "df_drop.select(lower(col('Primary Type')), upper(col('Primary Type')), substring(col('Primary Type'),1,4)).show(5)"
   ]
  },
  {
   "cell_type": "code",
   "execution_count": 45,
   "metadata": {},
   "outputs": [
    {
     "name": "stdout",
     "output_type": "stream",
     "text": [
      "+--------+-----------+----------+--------------------+----+------------+--------------------+--------------------+------+--------+----+--------+----+--------------+--------+------------+------------+----+--------------------+------------+-------------+--------------------+\n",
      "|      ID|Case Number|      Date|               Block|IUCR|Primary Type|         Description|Location Description|Arrest|Domestic|Beat|District|Ward|Community Area|FBI Code|X Coordinate|Y Coordinate|Year|          Updated On|    Latitude|    Longitude|            Location|\n",
      "+--------+-----------+----------+--------------------+----+------------+--------------------+--------------------+------+--------+----+--------+----+--------------+--------+------------+------------+----+--------------------+------------+-------------+--------------------+\n",
      "|10224738|   HY411648|2015-09-05|     043XX S WOOD ST|0486|     BATTERY|DOMESTIC BATTERY ...|           RESIDENCE| false|    true|0924|     009|  12|            61|     08B|     1165074|     1875917|2015|02/10/2018 03:50:...|41.815117282|-87.669999562|(41.815117282, -8...|\n",
      "|10224739|   HY411615|2015-09-04| 008XX N CENTRAL AVE|0870|       THEFT|      POCKET-PICKING|             CTA BUS| false|   false|1511|     015|  29|            25|      06|     1138875|     1904869|2015|02/10/2018 03:50:...|41.895080471|-87.765400451|(41.895080471, -8...|\n",
      "|11646166|   JC213529|2018-09-01|082XX S INGLESIDE...|0810|       THEFT|           OVER $500|           RESIDENCE| false|    true|0631|     006|   8|            44|      06|        null|        null|2018|04/06/2019 04:04:...|        null|         null|                null|\n",
      "|10224740|   HY411595|2015-09-05|   035XX W BARRY AVE|2023|   NARCOTICS|POSS: HEROIN(BRN/...|            SIDEWALK|  true|   false|1412|     014|  35|            21|      18|     1152037|     1920384|2015|02/10/2018 03:50:...|41.937405765|-87.716649687|(41.937405765, -8...|\n",
      "|10224741|   HY411610|2015-09-05| 0000X N LARAMIE AVE|0560|     ASSAULT|              SIMPLE|           APARTMENT| false|    true|1522|     015|  28|            25|     08A|     1141706|     1900086|2015|02/10/2018 03:50:...|41.881903443|-87.755121152|(41.881903443, -8...|\n",
      "+--------+-----------+----------+--------------------+----+------------+--------------------+--------------------+------+--------+----+--------+----+--------------+--------+------------+------------+----+--------------------+------------+-------------+--------------------+\n",
      "only showing top 5 rows\n",
      "\n"
     ]
    }
   ],
   "source": [
    "df =  spark.read.csv('Crimes_-_2001_to_Present.csv', header=True).withColumn('Date', to_date(col('Date'),'MM/dd/yyy hh:mm:ss a'))\n",
    "df.show(5)"
   ]
  },
  {
   "cell_type": "code",
   "execution_count": 46,
   "metadata": {},
   "outputs": [
    {
     "name": "stdout",
     "output_type": "stream",
     "text": [
      "+----------+----------+\n",
      "| min(Date)| max(Date)|\n",
      "+----------+----------+\n",
      "|2001-01-01|2023-05-02|\n",
      "+----------+----------+\n",
      "\n"
     ]
    }
   ],
   "source": [
    "df.select(min(col('Date')), max(col('Date'))).show(5)"
   ]
  },
  {
   "attachments": {},
   "cell_type": "markdown",
   "metadata": {},
   "source": [
    "# Join\n",
    "\n",
    "#### For this porpouse we are gona use the police station files of chicago since we hace the crimes dataset in order to joun the datasets\n",
    "\n",
    "https://data.cityofchicago.org/Public-Safety/Police-Stations/z8bn-74gv"
   ]
  },
  {
   "cell_type": "code",
   "execution_count": 47,
   "metadata": {},
   "outputs": [
    {
     "name": "stdout",
     "output_type": "stream",
     "text": [
      "+------------+-------------+-------------------+-------+-----+-----+--------------------+------------+------------+------------+------------+------------+-----------+------------+--------------------+\n",
      "|    DISTRICT|DISTRICT NAME|            ADDRESS|   CITY|STATE|  ZIP|             WEBSITE|       PHONE|         FAX|         TTY|X COORDINATE|Y COORDINATE|   LATITUDE|   LONGITUDE|            LOCATION|\n",
      "+------------+-------------+-------------------+-------+-----+-----+--------------------+------------+------------+------------+------------+------------+-----------+------------+--------------------+\n",
      "|Headquarters| Headquarters|3510 S Michigan Ave|Chicago|   IL|60653|http://home.chica...|        null|        null|        null| 1177731.401| 1881697.404|41.83070169|-87.62339535|(41.8307016873, -...|\n",
      "|          18|   Near North| 1160 N Larrabee St|Chicago|   IL|60610|http://home.chica...|312-742-5870|312-742-5771|312-742-5773| 1172080.029| 1908086.527|41.90324165|-87.64335214|(41.9032416531, -...|\n",
      "|          19|    Town Hall|   850 W Addison St|Chicago|   IL|60613|http://home.chica...|312-744-8320|312-744-4481|312-744-8011| 1169730.744| 1924160.317|41.94740046|-87.65151202|(41.9474004564, -...|\n",
      "|          20|      Lincoln| 5400 N Lincoln Ave|Chicago|   IL|60625|http://home.chica...|312-742-8714|312-742-8803|312-742-8841| 1158399.146| 1935788.826|41.97954951|-87.69284451|(41.9795495131, -...|\n",
      "|          22|  Morgan Park|1900 W Monterey Ave|Chicago|   IL|60643|http://home.chica...|312-745-0710|312-745-0814|312-745-0569| 1165825.476| 1830851.333|41.69143478|-87.66852039|(41.6914347795, -...|\n",
      "+------------+-------------+-------------------+-------+-----+-----+--------------------+------------+------------+------------+------------+------------+-----------+------------+--------------------+\n",
      "only showing top 5 rows\n",
      "\n"
     ]
    }
   ],
   "source": [
    "ps = spark.read.csv('Police_Stations.csv', header=True)\n",
    "ps.show(5)"
   ]
  },
  {
   "attachments": {},
   "cell_type": "markdown",
   "metadata": {},
   "source": [
    "Lets asses the two columns that will be used to join the datasets"
   ]
  },
  {
   "cell_type": "code",
   "execution_count": 48,
   "metadata": {},
   "outputs": [
    {
     "name": "stdout",
     "output_type": "stream",
     "text": [
      "+--------------------+\n",
      "|            DISTRICT|\n",
      "+--------------------+\n",
      "|                   7|\n",
      "|                  15|\n",
      "|                  11|\n",
      "|                   3|\n",
      "|                   8|\n",
      "|                  22|\n",
      "|                  16|\n",
      "|                   5|\n",
      "|                  18|\n",
      "|                  17|\n",
      "|                   6|\n",
      "|                  19|\n",
      "|                  25|\n",
      "|        Headquarters|\n",
      "|                  24|\n",
      "|                   9|\n",
      "|                   1|\n",
      "|                  20|\n",
      "|                  10|\n",
      "|                   4|\n",
      "|                  12|\n",
      "|                  14|\n",
      "|                   2|\n",
      "|\",Chicago,IL,6060...|\n",
      "+--------------------+\n",
      "\n"
     ]
    }
   ],
   "source": [
    "ps.select(col('DISTRICT')).distinct().show(30)"
   ]
  },
  {
   "cell_type": "code",
   "execution_count": 49,
   "metadata": {},
   "outputs": [
    {
     "name": "stdout",
     "output_type": "stream",
     "text": [
      "+--------+\n",
      "|District|\n",
      "+--------+\n",
      "|     009|\n",
      "|     012|\n",
      "|     024|\n",
      "|     031|\n",
      "|     015|\n",
      "|     006|\n",
      "|     019|\n",
      "|     020|\n",
      "|     011|\n",
      "|     025|\n",
      "|     005|\n",
      "|     003|\n",
      "|     016|\n",
      "|     018|\n",
      "|     008|\n",
      "|     022|\n",
      "|     001|\n",
      "|     014|\n",
      "|     010|\n",
      "|     004|\n",
      "+--------+\n",
      "only showing top 20 rows\n",
      "\n"
     ]
    }
   ],
   "source": [
    "df.select(col('District')).distinct().show()\n",
    "# This has cero at the begining"
   ]
  },
  {
   "cell_type": "code",
   "execution_count": 50,
   "metadata": {},
   "outputs": [],
   "source": [
    "# as ps DISTRICT has ceros infron we have to clean the column with a function\n",
    "from pyspark.sql.functions import lpad"
   ]
  },
  {
   "cell_type": "code",
   "execution_count": 51,
   "metadata": {},
   "outputs": [
    {
     "name": "stdout",
     "output_type": "stream",
     "text": [
      "+--------------------+\n",
      "|lpad(DISTRICT, 3, 0)|\n",
      "+--------------------+\n",
      "|                 Hea|\n",
      "|                 018|\n",
      "|                 019|\n",
      "|                 020|\n",
      "|                 022|\n",
      "|                 024|\n",
      "|                 025|\n",
      "|                 001|\n",
      "|                 002|\n",
      "|                 003|\n",
      "|                 004|\n",
      "|                 005|\n",
      "|                 006|\n",
      "|                 007|\n",
      "|                 008|\n",
      "|                 009|\n",
      "|                 010|\n",
      "|                 011|\n",
      "|                 012|\n",
      "|                 \",C|\n",
      "+--------------------+\n",
      "only showing top 20 rows\n",
      "\n"
     ]
    }
   ],
   "source": [
    "ps.select(lpad(col('DISTRICT'),3,'0')).show()\n",
    "# we add cero at the begining so both datasets are equal"
   ]
  },
  {
   "cell_type": "code",
   "execution_count": 52,
   "metadata": {},
   "outputs": [
    {
     "name": "stdout",
     "output_type": "stream",
     "text": [
      "+------------+--------------+--------------------+-------+-----+-----+--------------------+------------+------------+------------+------------+------------+-----------+------------+--------------------+---------------+\n",
      "|    DISTRICT| DISTRICT NAME|             ADDRESS|   CITY|STATE|  ZIP|             WEBSITE|       PHONE|         FAX|         TTY|X COORDINATE|Y COORDINATE|   LATITUDE|   LONGITUDE|            LOCATION|Format_District|\n",
      "+------------+--------------+--------------------+-------+-----+-----+--------------------+------------+------------+------------+------------+------------+-----------+------------+--------------------+---------------+\n",
      "|Headquarters|  Headquarters| 3510 S Michigan Ave|Chicago|   IL|60653|http://home.chica...|        null|        null|        null| 1177731.401| 1881697.404|41.83070169|-87.62339535|(41.8307016873, -...|            Hea|\n",
      "|          18|    Near North|  1160 N Larrabee St|Chicago|   IL|60610|http://home.chica...|312-742-5870|312-742-5771|312-742-5773| 1172080.029| 1908086.527|41.90324165|-87.64335214|(41.9032416531, -...|            018|\n",
      "|          19|     Town Hall|    850 W Addison St|Chicago|   IL|60613|http://home.chica...|312-744-8320|312-744-4481|312-744-8011| 1169730.744| 1924160.317|41.94740046|-87.65151202|(41.9474004564, -...|            019|\n",
      "|          20|       Lincoln|  5400 N Lincoln Ave|Chicago|   IL|60625|http://home.chica...|312-742-8714|312-742-8803|312-742-8841| 1158399.146| 1935788.826|41.97954951|-87.69284451|(41.9795495131, -...|            020|\n",
      "|          22|   Morgan Park| 1900 W Monterey Ave|Chicago|   IL|60643|http://home.chica...|312-745-0710|312-745-0814|312-745-0569| 1165825.476| 1830851.333|41.69143478|-87.66852039|(41.6914347795, -...|            022|\n",
      "|          24|   Rogers Park|     6464 N Clark St|Chicago|   IL|60626|http://home.chica...|312-744-5907|312-744-6928|312-744-7603| 1164193.588| 1943199.401|41.99976348|-87.67132429|(41.9997634842, -...|            024|\n",
      "|          25| Grand Central|    5555 W Grand Ave|Chicago|   IL|60639|http://home.chica...|312-746-8605|312-746-4353|312-746-8383| 1138770.871| 1913442.439|41.91860889|-87.76557448|(41.9186088912, -...|            025|\n",
      "|           1|       Central|     1718 S State St|Chicago|   IL|60616|http://home.chica...|312-745-4290|312-745-3694|312-745-3693| 1176569.052| 1891771.704|41.85837259|-87.62735617|(41.8583725929, -...|            001|\n",
      "|           2|     Wentworth|5101 S Wentworth Ave|Chicago|   IL|60609|http://home.chica...|312-747-8366|312-747-5396|312-747-6656| 1175864.837| 1871153.753|41.80181109|-87.63056018|(41.8018110912, -...|            002|\n",
      "|           3|Grand Crossing|7040 S Cottage Gr...|Chicago|   IL|60637|http://home.chica...|312-747-8201|312-747-5479|312-747-9168| 1182739.183| 1858317.732|41.76643089|-87.60574786|(41.7664308925, -...|            003|\n",
      "+------------+--------------+--------------------+-------+-----+-----+--------------------+------------+------------+------------+------------+------------+-----------+------------+--------------------+---------------+\n",
      "only showing top 10 rows\n",
      "\n"
     ]
    }
   ],
   "source": [
    "ps = ps.withColumn('Format_District',lpad(col('DISTRICT'),3,'0'))\n",
    "ps.show(10)\n",
    "# Create a new column with the new format\n"
   ]
  },
  {
   "cell_type": "code",
   "execution_count": 53,
   "metadata": {},
   "outputs": [
    {
     "data": {
      "text/plain": [
       "['DISTRICT',\n",
       " 'DISTRICT NAME',\n",
       " 'ADDRESS',\n",
       " 'CITY',\n",
       " 'STATE',\n",
       " 'ZIP',\n",
       " 'WEBSITE',\n",
       " 'PHONE',\n",
       " 'FAX',\n",
       " 'TTY',\n",
       " 'X COORDINATE',\n",
       " 'Y COORDINATE',\n",
       " 'LATITUDE',\n",
       " 'LONGITUDE',\n",
       " 'LOCATION',\n",
       " 'Format_District']"
      ]
     },
     "execution_count": 53,
     "metadata": {},
     "output_type": "execute_result"
    }
   ],
   "source": [
    "ps.columns"
   ]
  },
  {
   "cell_type": "code",
   "execution_count": 54,
   "metadata": {},
   "outputs": [
    {
     "name": "stdout",
     "output_type": "stream",
     "text": [
      "+--------+-----------+----------+--------------------+----+------------------+--------------------+--------------------+------+--------+----+--------+----+--------------+--------+----+--------------------+--------+--------------+---------------+\n",
      "|      ID|Case Number|      Date|               Block|IUCR|      Primary Type|         Description|Location Description|Arrest|Domestic|Beat|District|Ward|Community Area|FBI Code|Year|          Updated On|DISTRICT| DISTRICT NAME|Format_District|\n",
      "+--------+-----------+----------+--------------------+----+------------------+--------------------+--------------------+------+--------+----+--------+----+--------------+--------+----+--------------------+--------+--------------+---------------+\n",
      "|10224738|   HY411648|2015-09-05|     043XX S WOOD ST|0486|           BATTERY|DOMESTIC BATTERY ...|           RESIDENCE| false|    true|0924|     009|  12|            61|     08B|2015|02/10/2018 03:50:...|       9|       Deering|            009|\n",
      "|10224739|   HY411615|2015-09-04| 008XX N CENTRAL AVE|0870|             THEFT|      POCKET-PICKING|             CTA BUS| false|   false|1511|     015|  29|            25|      06|2015|02/10/2018 03:50:...|      15|        Austin|            015|\n",
      "|11646166|   JC213529|2018-09-01|082XX S INGLESIDE...|0810|             THEFT|           OVER $500|           RESIDENCE| false|    true|0631|     006|   8|            44|      06|2018|04/06/2019 04:04:...|       6|       Gresham|            006|\n",
      "|10224740|   HY411595|2015-09-05|   035XX W BARRY AVE|2023|         NARCOTICS|POSS: HEROIN(BRN/...|            SIDEWALK|  true|   false|1412|     014|  35|            21|      18|2015|02/10/2018 03:50:...|      14|   Shakespeare|            014|\n",
      "|10224741|   HY411610|2015-09-05| 0000X N LARAMIE AVE|0560|           ASSAULT|              SIMPLE|           APARTMENT| false|    true|1522|     015|  28|            25|     08A|2015|02/10/2018 03:50:...|      15|        Austin|            015|\n",
      "|10224742|   HY411435|2015-09-05| 082XX S LOOMIS BLVD|0610|          BURGLARY|      FORCIBLE ENTRY|           RESIDENCE| false|   false|0614|     006|  21|            71|      05|2015|02/10/2018 03:50:...|       6|       Gresham|            006|\n",
      "|10224743|   HY411629|2015-09-04|021XX W CHURCHILL ST|0620|          BURGLARY|      UNLAWFUL ENTRY|    RESIDENCE-GARAGE| false|   false|1434|     014|  32|            24|      05|2015|02/10/2018 03:50:...|      14|   Shakespeare|            014|\n",
      "|10224744|   HY411605|2015-09-05|   025XX W CERMAK RD|0860|             THEFT|        RETAIL THEFT|  GROCERY FOOD STORE|  true|   false|1034|     010|  25|            31|      06|2015|09/17/2015 11:37:...|      10|         Ogden|            010|\n",
      "|10224745|   HY411654|2015-09-05|031XX W WASHINGTO...|0320|           ROBBERY|STRONGARM - NO WE...|              STREET| false|    true|1222|     012|  27|            27|      03|2015|02/10/2018 03:50:...|      12|     Near West|            012|\n",
      "|11645836|   JC212333|2016-05-01| 055XX S ROCKWELL ST|1153|DECEPTIVE PRACTICE|FINANCIAL IDENTIT...|                null| false|   false|0824|     008|  15|            63|      11|2016|04/06/2019 04:04:...|       8|  Chicago Lawn|            008|\n",
      "|10224746|   HY411662|2015-09-05|  071XX S PULASKI RD|0820|             THEFT|      $500 AND UNDER|PARKING LOT/GARAG...| false|   false|0833|     008|  13|            65|      06|2015|02/10/2018 03:50:...|       8|  Chicago Lawn|            008|\n",
      "|10224749|   HY411626|2015-09-05|052XX N MILWAUKEE...|0460|           BATTERY|              SIMPLE|  SMALL RETAIL STORE| false|   false|1623|     016|  45|            11|     08B|2015|02/10/2018 03:50:...|      16|Jefferson Park|            016|\n",
      "|10224750|   HY411632|2015-09-05|    0000X W 103RD ST|2820|     OTHER OFFENSE|    TELEPHONE THREAT|           APARTMENT| false|    true|0512|     005|  34|            49|      26|2015|02/10/2018 03:50:...|       5|       Calumet|            005|\n",
      "|10224751|   HY411566|2015-09-05|     013XX E 47TH ST|0486|           BATTERY|DOMESTIC BATTERY ...|              STREET| false|    true|0222|     002|   4|            39|     08B|2015|02/10/2018 03:50:...|       2|     Wentworth|            002|\n",
      "|10224752|   HY411601|2015-09-03| 020XX W SCHILLER ST|0810|             THEFT|           OVER $500|              STREET| false|   false|1424|     014|   1|            24|      06|2015|02/10/2018 03:50:...|      14|   Shakespeare|            014|\n",
      "|10224753|   HY411489|2015-09-05|  080XX S JUSTINE ST|0497|           BATTERY|AGGRAVATED DOMEST...|           APARTMENT| false|   false|0612|     006|  21|            71|     04B|2015|02/10/2018 03:50:...|       6|       Gresham|            006|\n",
      "|10224754|   HY411656|2015-09-05|007XX N LEAMINGTO...|1320|   CRIMINAL DAMAGE|          TO VEHICLE|              STREET| false|   false|1531|     015|  28|            25|      14|2015|02/10/2018 03:50:...|      15|        Austin|            015|\n",
      "|10224756|   HY410094|2015-07-08|103XX S TORRENCE AVE|0620|          BURGLARY|      UNLAWFUL ENTRY|               OTHER| false|   false|0434|     004|  10|            51|      05|2015|02/10/2018 03:50:...|       4| South Chicago|            004|\n",
      "|10224757|   HY411388|2015-09-05|  088XX S PAULINA ST|0610|          BURGLARY|      FORCIBLE ENTRY|           RESIDENCE|  true|   false|2221|     022|  21|            71|      05|2015|02/10/2018 03:50:...|      22|   Morgan Park|            022|\n",
      "|10224758|   HY411568|2015-09-05|    059XX W GRACE ST|0486|           BATTERY|DOMESTIC BATTERY ...|              STREET| false|    true|1633|     016|  38|            15|     08B|2015|02/10/2018 03:50:...|      16|Jefferson Park|            016|\n",
      "+--------+-----------+----------+--------------------+----+------------------+--------------------+--------------------+------+--------+----+--------+----+--------------+--------+----+--------------------+--------+--------------+---------------+\n",
      "only showing top 20 rows\n",
      "\n"
     ]
    }
   ],
   "source": [
    "df.join(ps, df.District==ps.Format_District, 'left_outer').drop( 'ADDRESS',\n",
    " 'CITY',\n",
    " 'STATE',\n",
    " 'ZIP',\n",
    " 'WEBSITE',\n",
    " 'PHONE',\n",
    " 'FAX',\n",
    " 'TTY',\n",
    " 'X COORDINATE',\n",
    " 'Y COORDINATE',\n",
    " 'LATITUDE',\n",
    " 'LONGITUDE',\n",
    " 'LOCATION').show()\n",
    "# Lets drop some innecesary columns from the ps dataset so we can just get the District name"
   ]
  },
  {
   "attachments": {},
   "cell_type": "markdown",
   "metadata": {},
   "source": [
    "# RDD\n",
    "\n",
    "Works with python 3.9"
   ]
  },
  {
   "cell_type": "code",
   "execution_count": 55,
   "metadata": {},
   "outputs": [],
   "source": [
    "import findspark\n",
    "findspark.init()\n",
    "from pyspark import SparkContext\n",
    "sc = SparkContext.getOrCreate()\n"
   ]
  },
  {
   "cell_type": "code",
   "execution_count": 56,
   "metadata": {},
   "outputs": [
    {
     "data": {
      "text/plain": [
       "'DISTRICT,DISTRICT NAME,ADDRESS,CITY,STATE,ZIP,WEBSITE,PHONE,FAX,TTY,X COORDINATE,Y COORDINATE,LATITUDE,LONGITUDE,LOCATION'"
      ]
     },
     "execution_count": 56,
     "metadata": {},
     "output_type": "execute_result"
    }
   ],
   "source": [
    "psrdd = sc.textFile('Police_Stations.csv')\n",
    "psrdd.first()"
   ]
  },
  {
   "cell_type": "code",
   "execution_count": 57,
   "metadata": {},
   "outputs": [],
   "source": [
    "ps_header = psrdd.first()"
   ]
  },
  {
   "cell_type": "code",
   "execution_count": 58,
   "metadata": {},
   "outputs": [
    {
     "data": {
      "text/plain": [
       "'Headquarters,Headquarters,3510 S Michigan Ave,Chicago,IL,60653,http://home.chicagopolice.org,,,,1177731.401,1881697.404,41.83070169,-87.62339535,\"(41.8307016873, -87.6233953459)\"'"
      ]
     },
     "execution_count": 58,
     "metadata": {},
     "output_type": "execute_result"
    }
   ],
   "source": [
    "ps_rest = psrdd.filter(lambda line: line!= ps_header)\n",
    "ps_rest.first()\n",
    "# Bring the dataset without header"
   ]
  },
  {
   "cell_type": "code",
   "execution_count": 59,
   "metadata": {},
   "outputs": [
    {
     "data": {
      "text/plain": [
       "[['Headquarters',\n",
       "  'Headquarters',\n",
       "  '3510 S Michigan Ave',\n",
       "  'Chicago',\n",
       "  'IL',\n",
       "  '60653',\n",
       "  'http://home.chicagopolice.org',\n",
       "  '',\n",
       "  '',\n",
       "  '',\n",
       "  '1177731.401',\n",
       "  '1881697.404',\n",
       "  '41.83070169',\n",
       "  '-87.62339535',\n",
       "  '\"(41.8307016873',\n",
       "  ' -87.6233953459)\"'],\n",
       " ['18',\n",
       "  'Near North',\n",
       "  '1160 N Larrabee St',\n",
       "  'Chicago',\n",
       "  'IL',\n",
       "  '60610',\n",
       "  'http://home.chicagopolice.org/community/districts/18th-district-near-north/',\n",
       "  '312-742-5870',\n",
       "  '312-742-5771',\n",
       "  '312-742-5773',\n",
       "  '1172080.029',\n",
       "  '1908086.527',\n",
       "  '41.90324165',\n",
       "  '-87.64335214',\n",
       "  '\"(41.9032416531',\n",
       "  ' -87.6433521393)\"'],\n",
       " ['19',\n",
       "  'Town Hall',\n",
       "  '850 W Addison St',\n",
       "  'Chicago',\n",
       "  'IL',\n",
       "  '60613',\n",
       "  'http://home.chicagopolice.org/community/districts/19th-district-town-hall/',\n",
       "  '312-744-8320',\n",
       "  '312-744-4481',\n",
       "  '312-744-8011',\n",
       "  '1169730.744',\n",
       "  '1924160.317',\n",
       "  '41.94740046',\n",
       "  '-87.65151202',\n",
       "  '\"(41.9474004564',\n",
       "  ' -87.651512018)\"'],\n",
       " ['20',\n",
       "  'Lincoln',\n",
       "  '5400 N Lincoln Ave',\n",
       "  'Chicago',\n",
       "  'IL',\n",
       "  '60625',\n",
       "  'http://home.chicagopolice.org/community/districts/20th-district-lincoln/',\n",
       "  '312-742-8714',\n",
       "  '312-742-8803',\n",
       "  '312-742-8841',\n",
       "  '1158399.146',\n",
       "  '1935788.826',\n",
       "  '41.97954951',\n",
       "  '-87.69284451',\n",
       "  '\"(41.9795495131',\n",
       "  ' -87.6928445094)\"'],\n",
       " ['22',\n",
       "  'Morgan Park',\n",
       "  '1900 W Monterey Ave',\n",
       "  'Chicago',\n",
       "  'IL',\n",
       "  '60643',\n",
       "  'http://home.chicagopolice.org/community/districts/22nd-district-morgan-park/',\n",
       "  '312-745-0710',\n",
       "  '312-745-0814',\n",
       "  '312-745-0569',\n",
       "  '1165825.476',\n",
       "  '1830851.333',\n",
       "  '41.69143478',\n",
       "  '-87.66852039',\n",
       "  '\"(41.6914347795',\n",
       "  ' -87.6685203937)\"'],\n",
       " ['24',\n",
       "  'Rogers Park',\n",
       "  '6464 N Clark St',\n",
       "  'Chicago',\n",
       "  'IL',\n",
       "  '60626',\n",
       "  'http://home.chicagopolice.org/community/districts/24th-district-rogers-park/',\n",
       "  '312-744-5907',\n",
       "  '312-744-6928',\n",
       "  '312-744-7603',\n",
       "  '1164193.588',\n",
       "  '1943199.401',\n",
       "  '41.99976348',\n",
       "  '-87.67132429',\n",
       "  '\"(41.9997634842',\n",
       "  ' -87.6713242922)\"'],\n",
       " ['25',\n",
       "  'Grand Central',\n",
       "  '5555 W Grand Ave',\n",
       "  'Chicago',\n",
       "  'IL',\n",
       "  '60639',\n",
       "  'http://home.chicagopolice.org/community/districts/25th-district-grand-central/',\n",
       "  '312-746-8605',\n",
       "  '312-746-4353',\n",
       "  '312-746-8383',\n",
       "  '1138770.871',\n",
       "  '1913442.439',\n",
       "  '41.91860889',\n",
       "  '-87.76557448',\n",
       "  '\"(41.9186088912',\n",
       "  ' -87.765574479)\"'],\n",
       " ['1',\n",
       "  'Central',\n",
       "  '1718 S State St',\n",
       "  'Chicago',\n",
       "  'IL',\n",
       "  '60616',\n",
       "  'http://home.chicagopolice.org/community/districts/1st-district-central/',\n",
       "  '312-745-4290',\n",
       "  '312-745-3694',\n",
       "  '312-745-3693',\n",
       "  '1176569.052',\n",
       "  '1891771.704',\n",
       "  '41.85837259',\n",
       "  '-87.62735617',\n",
       "  '\"(41.8583725929',\n",
       "  ' -87.627356171)\"'],\n",
       " ['2',\n",
       "  'Wentworth',\n",
       "  '5101 S Wentworth Ave',\n",
       "  'Chicago',\n",
       "  'IL',\n",
       "  '60609',\n",
       "  'http://home.chicagopolice.org/community/districts/2nd-district-wentworth/',\n",
       "  '312-747-8366',\n",
       "  '312-747-5396',\n",
       "  '312-747-6656',\n",
       "  '1175864.837',\n",
       "  '1871153.753',\n",
       "  '41.80181109',\n",
       "  '-87.63056018',\n",
       "  '\"(41.8018110912',\n",
       "  ' -87.6305601801)\"'],\n",
       " ['3',\n",
       "  'Grand Crossing',\n",
       "  '7040 S Cottage Grove Ave',\n",
       "  'Chicago',\n",
       "  'IL',\n",
       "  '60637',\n",
       "  'http://home.chicagopolice.org/community/districts/3rd-district-grand-crossing/',\n",
       "  '312-747-8201',\n",
       "  '312-747-5479',\n",
       "  '312-747-9168',\n",
       "  '1182739.183',\n",
       "  '1858317.732',\n",
       "  '41.76643089',\n",
       "  '-87.60574786',\n",
       "  '\"(41.7664308925',\n",
       "  ' -87.6057478606)\"'],\n",
       " ['4',\n",
       "  'South Chicago',\n",
       "  '2255 E 103rd St',\n",
       "  'Chicago',\n",
       "  'IL',\n",
       "  '60617',\n",
       "  'http://home.chicagopolice.org/community/districts/4th-district-south-chicago/',\n",
       "  '312-747-7581',\n",
       "  '312-747-5276',\n",
       "  '312-747-9169',\n",
       "  '1193131.299',\n",
       "  '1837090.265',\n",
       "  '41.70793329',\n",
       "  '-87.56834912',\n",
       "  '\"(41.7079332906',\n",
       "  ' -87.5683491228)\"'],\n",
       " ['5',\n",
       "  'Calumet',\n",
       "  '727 E 111th St',\n",
       "  'Chicago',\n",
       "  'IL',\n",
       "  '60628',\n",
       "  'http://home.chicagopolice.org/community/districts/5th-district-calumet/',\n",
       "  '312-747-8210',\n",
       "  '312-747-5935',\n",
       "  '312-747-9170',\n",
       "  '1183305.427',\n",
       "  '1831462.313',\n",
       "  '41.69272336',\n",
       "  '-87.60450587',\n",
       "  '\"(41.6927233639',\n",
       "  ' -87.6045058667)\"'],\n",
       " ['6',\n",
       "  'Gresham',\n",
       "  '7808 S Halsted St',\n",
       "  'Chicago',\n",
       "  'IL',\n",
       "  '60620',\n",
       "  'http://home.chicagopolice.org/community/districts/6th-district-gresham/',\n",
       "  '312-745-3617',\n",
       "  '312-745-3649',\n",
       "  '312-745-3639',\n",
       "  '1172283.013',\n",
       "  '1853022.646',\n",
       "  '41.75213684',\n",
       "  '-87.64422891',\n",
       "  '\"(41.7521368378',\n",
       "  ' -87.6442289066)\"'],\n",
       " ['7',\n",
       "  'Englewood',\n",
       "  '1438 W 63rd St',\n",
       "  'Chicago',\n",
       "  'IL',\n",
       "  '60636',\n",
       "  'http://home.chicagopolice.org/community/districts/7th-district-englewood/',\n",
       "  '312-747-8223',\n",
       "  '312-747-6558',\n",
       "  '312-747-6652',\n",
       "  '1167659.235',\n",
       "  '1863005.522',\n",
       "  '41.77963154',\n",
       "  '-87.66088702',\n",
       "  '\"(41.7796315359',\n",
       "  ' -87.6608870173)\"'],\n",
       " ['8',\n",
       "  'Chicago Lawn',\n",
       "  '3420 W 63rd St',\n",
       "  'Chicago',\n",
       "  'IL',\n",
       "  '60629',\n",
       "  'http://home.chicagopolice.org/community/districts/8th-district-chicago-lawn/',\n",
       "  '312-747-8730',\n",
       "  '312-747-8545',\n",
       "  '312-747-8116',\n",
       "  '1154575.242',\n",
       "  '1862672.049',\n",
       "  '41.77898719',\n",
       "  '-87.70886382',\n",
       "  '\"(41.778987189',\n",
       "  ' -87.7088638153)\"'],\n",
       " ['9',\n",
       "  'Deering',\n",
       "  '3120 S Halsted St',\n",
       "  'Chicago',\n",
       "  'IL',\n",
       "  '60608',\n",
       "  'http://home.chicagopolice.org/community/districts/9th-district-deering/',\n",
       "  '312-747-8227',\n",
       "  '312-747-5329',\n",
       "  '312-747-9172',\n",
       "  '1171440.24',\n",
       "  '1884085.224',\n",
       "  '41.83739443',\n",
       "  '-87.64640771',\n",
       "  '\"(41.8373944311',\n",
       "  ' -87.6464077068)\"'],\n",
       " ['10',\n",
       "  'Ogden',\n",
       "  '3315 W Ogden Ave',\n",
       "  'Chicago',\n",
       "  'IL',\n",
       "  '60623',\n",
       "  'http://home.chicagopolice.org/community/districts/10th-district-ogden/',\n",
       "  '312-747-7511',\n",
       "  '312-747-7429',\n",
       "  '312-747-7471',\n",
       "  '1154500.753',\n",
       "  '1890985.501',\n",
       "  '41.85668453',\n",
       "  '-87.70838196',\n",
       "  '\"(41.8566845327',\n",
       "  ' -87.708381958)\"'],\n",
       " ['11',\n",
       "  'Harrison',\n",
       "  '3151 W Harrison St',\n",
       "  'Chicago',\n",
       "  'IL',\n",
       "  '60612',\n",
       "  'http://home.chicagopolice.org/community/districts/11th-district-harrison/',\n",
       "  '312-746-8386',\n",
       "  '312-746-4281',\n",
       "  '312-746-5151',\n",
       "  '1155244.069',\n",
       "  '1897148.755',\n",
       "  '41.87358229',\n",
       "  '-87.70548813',\n",
       "  '\"(41.8735822883',\n",
       "  ' -87.705488126)\"'],\n",
       " ['12', 'Near West', '\"1412 S Blue Island Ave'],\n",
       " ['\"',\n",
       "  'Chicago',\n",
       "  'IL',\n",
       "  '60608',\n",
       "  'http://home.chicagopolice.org/community/districts/12th-district-near-west/',\n",
       "  '312-746-8396',\n",
       "  '312-746-4248',\n",
       "  '312-746-9868',\n",
       "  '1168487.845',\n",
       "  '1893384.455',\n",
       "  '41.86297662',\n",
       "  '-87.65697251',\n",
       "  '\"(41.8629766244',\n",
       "  ' -87.6569725149)\"'],\n",
       " ['14',\n",
       "  'Shakespeare',\n",
       "  '2150 N California Ave',\n",
       "  'Chicago',\n",
       "  'IL',\n",
       "  '60647',\n",
       "  'http://home.chicagopolice.org/community/districts/14th-district-shakespeare/',\n",
       "  '312-744-8250',\n",
       "  '312-744-2422',\n",
       "  '312-744-8260',\n",
       "  '1157304.426',\n",
       "  '1914481.521',\n",
       "  '41.92110332',\n",
       "  '-87.69745182',\n",
       "  '\"(41.9211033246',\n",
       "  ' -87.6974518223)\"'],\n",
       " ['15',\n",
       "  'Austin',\n",
       "  '5701 W Madison St',\n",
       "  'Chicago',\n",
       "  'IL',\n",
       "  '60644',\n",
       "  'http://home.chicagopolice.org/community/districts/15th-district-austin/',\n",
       "  '312-743-1440',\n",
       "  '312-743-1366',\n",
       "  '312-743-1485',\n",
       "  '1138148.815',\n",
       "  '1899399.078',\n",
       "  '41.88008346',\n",
       "  '-87.76819989',\n",
       "  '\"(41.8800834614',\n",
       "  ' -87.768199889)\"'],\n",
       " ['16',\n",
       "  'Jefferson Park',\n",
       "  '5151 N Milwaukee Ave',\n",
       "  'Chicago',\n",
       "  'IL',\n",
       "  '60630',\n",
       "  'http://home.chicagopolice.org/community/districts/16th-district-jefferson-park/',\n",
       "  '312-742-4480',\n",
       "  '312-742-4421',\n",
       "  '312-742-4423',\n",
       "  '1138480.758',\n",
       "  '1933660.473',\n",
       "  '41.97409445',\n",
       "  '-87.76614884',\n",
       "  '\"(41.9740944511',\n",
       "  ' -87.7661488432)\"'],\n",
       " ['17',\n",
       "  'Albany Park',\n",
       "  '4650 N Pulaski Rd',\n",
       "  'Chicago',\n",
       "  'IL',\n",
       "  '60630',\n",
       "  'http://home.chicagopolice.org/community/districts/17th-district-albany-park/',\n",
       "  '312-742-4410',\n",
       "  '312-742-5411',\n",
       "  '312-742-5451',\n",
       "  '1148843.91',\n",
       "  '1930801.058',\n",
       "  '41.96605342',\n",
       "  '-87.72811456',\n",
       "  '\"(41.9660534171',\n",
       "  ' -87.728114561)\"']]"
      ]
     },
     "execution_count": 59,
     "metadata": {},
     "output_type": "execute_result"
    }
   ],
   "source": [
    "# How many police station there are?\n",
    "\n",
    "ps_rest.map(lambda line: line.split(',')).collect()"
   ]
  },
  {
   "attachments": {},
   "cell_type": "markdown",
   "metadata": {},
   "source": [
    "# Filter"
   ]
  },
  {
   "cell_type": "code",
   "execution_count": 62,
   "metadata": {},
   "outputs": [
    {
     "data": {
      "text/plain": [
       "[('7', 'Englewood', '1438 W 63rd St', '60636')]"
      ]
     },
     "execution_count": 62,
     "metadata": {},
     "output_type": "execute_result"
    }
   ],
   "source": [
    "(ps_rest.filter(lambda line: line.split(',')[0]=='7').\n",
    "        map(lambda line: (line.split(',')[0],\n",
    "                          line.split(',')[1],\n",
    "                          line.split(',')[2],\n",
    "                          line.split(',')[5]\n",
    "                          )).collect())"
   ]
  },
  {
   "cell_type": "code",
   "execution_count": 66,
   "metadata": {},
   "outputs": [
    {
     "data": {
      "text/plain": [
       "[('10', 'Ogden', '3315 W Ogden Ave', '60623'),\n",
       " ('11', 'Harrison', '3151 W Harrison St', '60612')]"
      ]
     },
     "execution_count": 66,
     "metadata": {},
     "output_type": "execute_result"
    }
   ],
   "source": [
    "(ps_rest.filter(lambda line: line.split(',')[0]in ['10','11']).\n",
    "        map(lambda line: (line.split(',')[0],\n",
    "                          line.split(',')[1],\n",
    "                          line.split(',')[2],\n",
    "                          line.split(',')[5]\n",
    "                          )).collect())"
   ]
  }
 ],
 "metadata": {
  "kernelspec": {
   "display_name": "Python 3",
   "language": "python",
   "name": "python3"
  },
  "language_info": {
   "codemirror_mode": {
    "name": "ipython",
    "version": 3
   },
   "file_extension": ".py",
   "mimetype": "text/x-python",
   "name": "python",
   "nbconvert_exporter": "python",
   "pygments_lexer": "ipython3",
   "version": "3.9.13"
  },
  "orig_nbformat": 4
 },
 "nbformat": 4,
 "nbformat_minor": 2
}
